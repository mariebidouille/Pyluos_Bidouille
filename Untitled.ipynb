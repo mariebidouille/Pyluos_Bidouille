{
 "cells": [
  {
   "cell_type": "code",
   "execution_count": 2,
   "id": "devoted-peoples",
   "metadata": {},
   "outputs": [
    {
     "ename": "ValueError",
     "evalue": "No corresponding IO found (among <function discover_hosts at 0x11551a280>).",
     "output_type": "error",
     "traceback": [
      "\u001b[0;31m---------------------------------------------------------------------------\u001b[0m",
      "\u001b[0;31mValueError\u001b[0m                                Traceback (most recent call last)",
      "\u001b[0;32m<ipython-input-2-ac2333d6916a>\u001b[0m in \u001b[0;36m<module>\u001b[0;34m\u001b[0m\n\u001b[1;32m      2\u001b[0m \u001b[0;32mfrom\u001b[0m \u001b[0mpyluos\u001b[0m \u001b[0;32mimport\u001b[0m \u001b[0mDevice\u001b[0m\u001b[0;34m\u001b[0m\u001b[0;34m\u001b[0m\u001b[0m\n\u001b[1;32m      3\u001b[0m \u001b[0;34m\u001b[0m\u001b[0m\n\u001b[0;32m----> 4\u001b[0;31m \u001b[0mdevice\u001b[0m \u001b[0;34m=\u001b[0m \u001b[0mDevice\u001b[0m\u001b[0;34m(\u001b[0m\u001b[0;34m'/dev/cu.usbmodem141302'\u001b[0m\u001b[0;34m)\u001b[0m\u001b[0;34m\u001b[0m\u001b[0;34m\u001b[0m\u001b[0m\n\u001b[0m\u001b[1;32m      5\u001b[0m \u001b[0mprint\u001b[0m\u001b[0;34m(\u001b[0m\u001b[0mdevice\u001b[0m\u001b[0;34m.\u001b[0m\u001b[0mservices\u001b[0m\u001b[0;34m)\u001b[0m\u001b[0;34m\u001b[0m\u001b[0;34m\u001b[0m\u001b[0m\n",
      "\u001b[0;32m~/Downloads/Pyluos-rc-2.0.0/pyluos/device.py\u001b[0m in \u001b[0;36m__init__\u001b[0;34m(self, host, IO, log_conf, test_mode, background_task, *args, **kwargs)\u001b[0m\n\u001b[1;32m    113\u001b[0m             \u001b[0mself\u001b[0m\u001b[0;34m.\u001b[0m\u001b[0m_io\u001b[0m \u001b[0;34m=\u001b[0m \u001b[0mIO\u001b[0m\u001b[0;34m(\u001b[0m\u001b[0mhost\u001b[0m\u001b[0;34m=\u001b[0m\u001b[0mhost\u001b[0m\u001b[0;34m,\u001b[0m \u001b[0;34m*\u001b[0m\u001b[0margs\u001b[0m\u001b[0;34m,\u001b[0m \u001b[0;34m**\u001b[0m\u001b[0mkwargs\u001b[0m\u001b[0;34m)\u001b[0m\u001b[0;34m\u001b[0m\u001b[0;34m\u001b[0m\u001b[0m\n\u001b[1;32m    114\u001b[0m         \u001b[0;32melse\u001b[0m\u001b[0;34m:\u001b[0m\u001b[0;34m\u001b[0m\u001b[0;34m\u001b[0m\u001b[0m\n\u001b[0;32m--> 115\u001b[0;31m             self._io = io_from_host(host=host,\n\u001b[0m\u001b[1;32m    116\u001b[0m                                     *args, **kwargs)\n\u001b[1;32m    117\u001b[0m \u001b[0;34m\u001b[0m\u001b[0m\n",
      "\u001b[0;32m~/Downloads/Pyluos-rc-2.0.0/pyluos/io/__init__.py\u001b[0m in \u001b[0;36mio_from_host\u001b[0;34m(host, *args, **kwargs)\u001b[0m\n\u001b[1;32m     54\u001b[0m             \u001b[0;32mreturn\u001b[0m \u001b[0mcls\u001b[0m\u001b[0;34m(\u001b[0m\u001b[0mhost\u001b[0m\u001b[0;34m=\u001b[0m\u001b[0mhost\u001b[0m\u001b[0;34m,\u001b[0m \u001b[0;34m*\u001b[0m\u001b[0margs\u001b[0m\u001b[0;34m,\u001b[0m \u001b[0;34m**\u001b[0m\u001b[0mkwargs\u001b[0m\u001b[0;34m)\u001b[0m\u001b[0;34m\u001b[0m\u001b[0;34m\u001b[0m\u001b[0m\n\u001b[1;32m     55\u001b[0m \u001b[0;34m\u001b[0m\u001b[0m\n\u001b[0;32m---> 56\u001b[0;31m     \u001b[0;32mraise\u001b[0m \u001b[0mValueError\u001b[0m\u001b[0;34m(\u001b[0m\u001b[0;34m'No corresponding IO found (among {}).'\u001b[0m\u001b[0;34m.\u001b[0m\u001b[0mformat\u001b[0m\u001b[0;34m(\u001b[0m\u001b[0mdiscover_hosts\u001b[0m\u001b[0;34m)\u001b[0m\u001b[0;34m)\u001b[0m\u001b[0;34m\u001b[0m\u001b[0;34m\u001b[0m\u001b[0m\n\u001b[0m\u001b[1;32m     57\u001b[0m \u001b[0;34m\u001b[0m\u001b[0m\n\u001b[1;32m     58\u001b[0m \u001b[0;34m\u001b[0m\u001b[0m\n",
      "\u001b[0;31mValueError\u001b[0m: No corresponding IO found (among <function discover_hosts at 0x11551a280>)."
     ]
    }
   ],
   "source": [
    "import pyluos \n",
    "from pyluos import Device \n",
    "\n",
    "device = Device('/dev/cu.usbmodem141302')\n",
    "print(device.services)"
   ]
  },
  {
   "cell_type": "code",
   "execution_count": null,
   "id": "musical-spotlight",
   "metadata": {},
   "outputs": [],
   "source": []
  },
  {
   "cell_type": "code",
   "execution_count": null,
   "id": "coral-airfare",
   "metadata": {},
   "outputs": [],
   "source": []
  },
  {
   "cell_type": "code",
   "execution_count": null,
   "id": "fitting-leadership",
   "metadata": {},
   "outputs": [],
   "source": []
  },
  {
   "cell_type": "code",
   "execution_count": null,
   "id": "expensive-contractor",
   "metadata": {},
   "outputs": [],
   "source": []
  },
  {
   "cell_type": "code",
   "execution_count": null,
   "id": "global-cartoon",
   "metadata": {},
   "outputs": [],
   "source": []
  },
  {
   "cell_type": "code",
   "execution_count": null,
   "id": "flush-support",
   "metadata": {},
   "outputs": [],
   "source": []
  },
  {
   "cell_type": "code",
   "execution_count": 2,
   "id": "lonely-clause",
   "metadata": {},
   "outputs": [
    {
     "name": "stdout",
     "output_type": "stream",
     "text": [
      "-------------------------------------------------\n",
      "Type                Alias               ID   \n",
      "-------------------------------------------------\n",
      "Pipe                Pipe                2    \n",
      "Gate                gate                1    \n",
      "ServoMotor          servo               3    \n",
      "\n"
     ]
    }
   ],
   "source": []
  },
  {
   "cell_type": "code",
   "execution_count": null,
   "id": "meaning-pointer",
   "metadata": {},
   "outputs": [],
   "source": []
  },
  {
   "cell_type": "code",
   "execution_count": null,
   "id": "spoken-correspondence",
   "metadata": {},
   "outputs": [],
   "source": []
  },
  {
   "cell_type": "code",
   "execution_count": null,
   "id": "considerable-prompt",
   "metadata": {},
   "outputs": [],
   "source": []
  },
  {
   "cell_type": "code",
   "execution_count": null,
   "id": "painted-conservation",
   "metadata": {},
   "outputs": [],
   "source": []
  },
  {
   "cell_type": "code",
   "execution_count": null,
   "id": "demanding-hospital",
   "metadata": {},
   "outputs": [],
   "source": []
  },
  {
   "cell_type": "code",
   "execution_count": 2,
   "id": "unavailable-raleigh",
   "metadata": {},
   "outputs": [
    {
     "name": "stdout",
     "output_type": "stream",
     "text": [
      "Msg read failed: Expecting value: line 1 column 22 (char 21)\n"
     ]
    },
    {
     "data": {
      "text/plain": [
       "'ServoMotor'"
      ]
     },
     "execution_count": 2,
     "metadata": {},
     "output_type": "execute_result"
    },
    {
     "name": "stdout",
     "output_type": "stream",
     "text": [
      "Msg read failed: Extra data: line 1 column 46 (char 45)\n",
      "Msg read failed: Invalid control character at: line 1 column 25 (char 24)\n",
      "Msg read failed: Expecting property name enclosed in double quotes: line 1 column 2 (char 1)\n",
      "Msg read failed: Invalid control character at: line 1 column 27 (char 26)\n",
      "Msg read failed: Invalid control character at: line 1 column 5 (char 4)\n",
      "Msg read failed: Invalid control character at: line 1 column 29 (char 28)\n",
      "Msg read failed: Invalid control character at: line 1 column 7 (char 6)\n",
      "Msg read failed: Invalid control character at: line 1 column 31 (char 30)\n",
      "Msg read failed: Invalid control character at: line 1 column 9 (char 8)\n",
      "Msg read failed: Invalid control character at: line 1 column 33 (char 32)\n",
      "Msg read failed: Invalid control character at: line 1 column 11 (char 10)\n",
      "Msg read failed: Invalid control character at: line 1 column 35 (char 34)\n",
      "Msg read failed: Expecting ':' delimiter: line 1 column 12 (char 11)\n",
      "Msg read failed: Invalid control character at: line 1 column 37 (char 36)\n",
      "Msg read failed: Expecting property name enclosed in double quotes: line 1 column 14 (char 13)\n",
      "Msg read failed: Expecting value: line 1 column 38 (char 37)\n",
      "Msg read failed: Invalid control character at: line 1 column 17 (char 16)\n",
      "Msg read failed: Expecting ',' delimiter: line 1 column 39 (char 38)\n",
      "Msg read failed: Invalid control character at: line 1 column 19 (char 18)\n",
      "Msg read failed: Expecting ',' delimiter: line 1 column 42 (char 41)\n",
      "Msg read failed: Invalid control character at: line 1 column 21 (char 20)\n",
      "Msg read failed: Expecting ',' delimiter: line 1 column 44 (char 43)\n",
      "Msg read failed: Expecting value: line 1 column 22 (char 21)\n",
      "Msg read failed: Extra data: line 1 column 46 (char 45)\n",
      "Msg read failed: Invalid control character at: line 1 column 25 (char 24)\n",
      "Msg read failed: Expecting property name enclosed in double quotes: line 1 column 2 (char 1)\n",
      "Msg read failed: Invalid control character at: line 1 column 27 (char 26)\n",
      "Msg read failed: Invalid control character at: line 1 column 5 (char 4)\n",
      "Msg read failed: Invalid control character at: line 1 column 29 (char 28)\n",
      "Msg read failed: Invalid control character at: line 1 column 7 (char 6)\n",
      "Msg read failed: Invalid control character at: line 1 column 31 (char 30)\n",
      "Msg read failed: Invalid control character at: line 1 column 9 (char 8)\n",
      "Msg read failed: Invalid control character at: line 1 column 33 (char 32)\n",
      "Msg read failed: Invalid control character at: line 1 column 11 (char 10)\n"
     ]
    }
   ],
   "source": [
    "device.servo.type"
   ]
  },
  {
   "cell_type": "code",
   "execution_count": 3,
   "id": "optional-couple",
   "metadata": {},
   "outputs": [],
   "source": [
    "device.servo.rename(\"servo_motor\")"
   ]
  },
  {
   "cell_type": "code",
   "execution_count": 4,
   "id": "developing-instruction",
   "metadata": {},
   "outputs": [
    {
     "name": "stdout",
     "output_type": "stream",
     "text": [
      "-------------------------------------------------\n",
      "Type                Alias               ID   \n",
      "-------------------------------------------------\n",
      "Pipe                Pipe                2    \n",
      "Gate                gate                1    \n",
      "ServoMotor          servo_motor         3    \n",
      "\n"
     ]
    }
   ],
   "source": [
    "print(device.services)"
   ]
  },
  {
   "cell_type": "code",
   "execution_count": 2,
   "id": "toxic-brain",
   "metadata": {},
   "outputs": [
    {
     "name": "stdout",
     "output_type": "stream",
     "text": [
      "0.0\n",
      "Msg read failed: Invalid control character at: line 1 column 8 (char 7)\n",
      "Msg read failed: Invalid control character at: line 1 column 8 (char 7)\n",
      "Msg read failed: Invalid control character at: line 1 column 8 (char 7)\n",
      "Msg read failed: Invalid control character at: line 1 column 8 (char 7)\n",
      "Msg read failed: Invalid control character at: line 1 column 8 (char 7)\n",
      "Msg read failed: Invalid control character at: line 1 column 8 (char 7)\n",
      "Msg read failed: Invalid control character at: line 1 column 8 (char 7)\n",
      "Msg read failed: Invalid control character at: line 1 column 8 (char 7)\n",
      "Msg read failed: Invalid control character at: line 1 column 8 (char 7)\n",
      "Msg read failed: Invalid control character at: line 1 column 8 (char 7)\n",
      "Msg read failed: Invalid control character at: line 1 column 8 (char 7)\n",
      "Msg read failed: Invalid control character at: line 1 column 8 (char 7)\n",
      "Msg read failed: Invalid control character at: line 1 column 8 (char 7)\n",
      "Msg read failed: Invalid control character at: line 1 column 8 (char 7)\n",
      "Msg read failed: Invalid control character at: line 1 column 8 (char 7)\n",
      "Msg read failed: Invalid control character at: line 1 column 8 (char 7)\n",
      "Msg read failed: Invalid control character at: line 1 column 8 (char 7)\n",
      "Msg read failed: Invalid control character at: line 1 column 8 (char 7)\n",
      "Msg read failed: Invalid control character at: line 1 column 8 (char 7)\n",
      "Msg read failed: Invalid control character at: line 1 column 8 (char 7)\n",
      "Msg read failed: Invalid control character at: line 1 column 8 (char 7)\n",
      "Msg read failed: Invalid control character at: line 1 column 8 (char 7)\n",
      "Msg read failed: Invalid control character at: line 1 column 8 (char 7)\n",
      "Msg read failed: Invalid control character at: line 1 column 8 (char 7)\n",
      "Msg read failed: Invalid control character at: line 1 column 8 (char 7)\n",
      "Msg read failed: Invalid control character at: line 1 column 8 (char 7)\n",
      "Msg read failed: Invalid control character at: line 1 column 8 (char 7)\n",
      "Msg read failed: Invalid control character at: line 1 column 8 (char 7)\n",
      "Msg read failed: Invalid control character at: line 1 column 8 (char 7)\n",
      "Msg read failed: Invalid control character at: line 1 column 8 (char 7)\n",
      "Msg read failed: Invalid control character at: line 1 column 8 (char 7)\n",
      "Msg read failed: Invalid control character at: line 1 column 8 (char 7)\n",
      "Msg read failed: Invalid control character at: line 1 column 8 (char 7)\n",
      "Msg read failed: Invalid control character at: line 1 column 8 (char 7)\n",
      "Msg read failed: Invalid control character at: line 1 column 8 (char 7)\n",
      "Msg read failed: Invalid control character at: line 1 column 8 (char 7)\n",
      "Msg read failed: Invalid control character at: line 1 column 8 (char 7)\n",
      "Msg read failed: Invalid control character at: line 1 column 8 (char 7)\n",
      "Msg read failed: Invalid control character at: line 1 column 8 (char 7)\n",
      "Msg read failed: Invalid control character at: line 1 column 8 (char 7)\n",
      "Msg read failed: Invalid control character at: line 1 column 8 (char 7)\n",
      "Msg read failed: Invalid control character at: line 1 column 8 (char 7)\n",
      "Msg read failed: Invalid control character at: line 1 column 8 (char 7)\n",
      "Msg read failed: Invalid control character at: line 1 column 8 (char 7)\n",
      "Msg read failed: Invalid control character at: line 1 column 8 (char 7)\n",
      "Msg read failed: Invalid control character at: line 1 column 8 (char 7)\n",
      "Msg read failed: Invalid control character at: line 1 column 8 (char 7)\n",
      "Msg read failed: Invalid control character at: line 1 column 8 (char 7)\n",
      "Msg read failed: Invalid control character at: line 1 column 8 (char 7)\n",
      "Msg read failed: Invalid control character at: line 1 column 8 (char 7)\n",
      "Msg read failed: Invalid control character at: line 1 column 8 (char 7)\n",
      "Msg read failed: Invalid control character at: line 1 column 8 (char 7)\n",
      "Msg read failed: Invalid control character at: line 1 column 8 (char 7)\n",
      "Msg read failed: Invalid control character at: line 1 column 8 (char 7)\n",
      "Msg read failed: Invalid control character at: line 1 column 8 (char 7)\n",
      "Msg read failed: Invalid control character at: line 1 column 8 (char 7)\n",
      "Msg read failed: Invalid control character at: line 1 column 8 (char 7)\n",
      "Msg read failed: Invalid control character at: line 1 column 8 (char 7)\n",
      "Msg read failed: Invalid control character at: line 1 column 8 (char 7)\n",
      "Msg read failed: Invalid control character at: line 1 column 8 (char 7)\n",
      "Msg read failed: Invalid control character at: line 1 column 8 (char 7)\n",
      "Msg read failed: Invalid control character at: line 1 column 8 (char 7)\n",
      "Msg read failed: Invalid control character at: line 1 column 8 (char 7)\n",
      "Msg read failed: Invalid control character at: line 1 column 8 (char 7)\n",
      "Msg read failed: Invalid control character at: line 1 column 8 (char 7)\n",
      "Msg read failed: Invalid control character at: line 1 column 8 (char 7)\n",
      "Msg read failed: Invalid control character at: line 1 column 8 (char 7)\n",
      "Msg read failed: Invalid control character at: line 1 column 8 (char 7)\n",
      "Msg read failed: Invalid control character at: line 1 column 8 (char 7)\n",
      "Msg read failed: Invalid control character at: line 1 column 8 (char 7)\n",
      "Msg read failed: Invalid control character at: line 1 column 8 (char 7)\n",
      "Msg read failed: Invalid control character at: line 1 column 8 (char 7)\n",
      "Msg read failed: Invalid control character at: line 1 column 8 (char 7)\n",
      "Msg read failed: Invalid control character at: line 1 column 8 (char 7)\n",
      "Msg read failed: Invalid control character at: line 1 column 8 (char 7)\n",
      "Msg read failed: Invalid control character at: line 1 column 8 (char 7)\n",
      "Msg read failed: Invalid control character at: line 1 column 8 (char 7)\n",
      "Msg read failed: Invalid control character at: line 1 column 8 (char 7)\n",
      "Msg read failed: Invalid control character at: line 1 column 8 (char 7)\n",
      "Msg read failed: Invalid control character at: line 1 column 8 (char 7)\n",
      "Msg read failed: Invalid control character at: line 1 column 8 (char 7)\n",
      "Msg read failed: Invalid control character at: line 1 column 8 (char 7)\n",
      "Msg read failed: Invalid control character at: line 1 column 8 (char 7)\n",
      "Msg read failed: Invalid control character at: line 1 column 8 (char 7)\n",
      "Msg read failed: Invalid control character at: line 1 column 8 (char 7)\n",
      "Msg read failed: Invalid control character at: line 1 column 8 (char 7)\n",
      "Msg read failed: Invalid control character at: line 1 column 8 (char 7)\n",
      "Msg read failed: Invalid control character at: line 1 column 8 (char 7)\n",
      "Msg read failed: Invalid control character at: line 1 column 8 (char 7)\n",
      "Msg read failed: Invalid control character at: line 1 column 8 (char 7)\n",
      "Msg read failed: Invalid control character at: line 1 column 8 (char 7)\n",
      "Msg read failed: Invalid control character at: line 1 column 8 (char 7)\n",
      "Msg read failed: Invalid control character at: line 1 column 8 (char 7)\n",
      "Msg read failed: Invalid control character at: line 1 column 8 (char 7)\n",
      "Msg read failed: Invalid control character at: line 1 column 8 (char 7)\n",
      "Msg read failed: Invalid control character at: line 1 column 8 (char 7)\n",
      "Msg read failed: Invalid control character at: line 1 column 8 (char 7)\n",
      "Msg read failed: Invalid control character at: line 1 column 8 (char 7)\n",
      "Msg read failed: Invalid control character at: line 1 column 8 (char 7)\n",
      "Msg read failed: Invalid control character at: line 1 column 8 (char 7)\n",
      "Msg read failed: Invalid control character at: line 1 column 8 (char 7)\n",
      "Msg read failed: Invalid control character at: line 1 column 8 (char 7)\n",
      "Msg read failed: Invalid control character at: line 1 column 8 (char 7)\n",
      "Msg read failed: Invalid control character at: line 1 column 8 (char 7)\n",
      "Msg read failed: Invalid control character at: line 1 column 8 (char 7)\n",
      "Msg read failed: Invalid control character at: line 1 column 8 (char 7)\n",
      "Msg read failed: Invalid control character at: line 1 column 8 (char 7)\n",
      "Msg read failed: Invalid control character at: line 1 column 8 (char 7)\n",
      "Msg read failed: Invalid control character at: line 1 column 8 (char 7)\n",
      "Msg read failed: Invalid control character at: line 1 column 8 (char 7)\n",
      "Msg read failed: Invalid control character at: line 1 column 8 (char 7)\n",
      "Msg read failed: Invalid control character at: line 1 column 8 (char 7)\n",
      "Msg read failed: Invalid control character at: line 1 column 8 (char 7)\n",
      "Msg read failed: Invalid control character at: line 1 column 8 (char 7)\n"
     ]
    },
    {
     "name": "stdout",
     "output_type": "stream",
     "text": [
      "Msg read failed: Invalid control character at: line 1 column 8 (char 7)\n",
      "Msg read failed: Invalid control character at: line 1 column 8 (char 7)\n",
      "Msg read failed: Invalid control character at: line 1 column 8 (char 7)\n",
      "Msg read failed: Invalid control character at: line 1 column 8 (char 7)\n",
      "Msg read failed: Invalid control character at: line 1 column 8 (char 7)\n",
      "Msg read failed: Invalid control character at: line 1 column 8 (char 7)\n",
      "Msg read failed: Invalid control character at: line 1 column 8 (char 7)\n",
      "Msg read failed: Invalid control character at: line 1 column 8 (char 7)\n",
      "Msg read failed: Invalid control character at: line 1 column 8 (char 7)\n",
      "Msg read failed: Invalid control character at: line 1 column 8 (char 7)\n",
      "Msg read failed: Invalid control character at: line 1 column 8 (char 7)\n",
      "Msg read failed: Invalid control character at: line 1 column 8 (char 7)\n",
      "Msg read failed: Invalid control character at: line 1 column 8 (char 7)\n",
      "Msg read failed: Invalid control character at: line 1 column 8 (char 7)\n",
      "Msg read failed: Invalid control character at: line 1 column 8 (char 7)\n",
      "Msg read failed: Invalid control character at: line 1 column 8 (char 7)\n",
      "Msg read failed: Invalid control character at: line 1 column 8 (char 7)\n",
      "Msg read failed: Invalid control character at: line 1 column 8 (char 7)\n",
      "Msg read failed: Invalid control character at: line 1 column 8 (char 7)\n",
      "Msg read failed: Invalid control character at: line 1 column 8 (char 7)\n",
      "Msg read failed: Invalid control character at: line 1 column 8 (char 7)\n",
      "Msg read failed: Invalid control character at: line 1 column 8 (char 7)\n",
      "Msg read failed: Invalid control character at: line 1 column 8 (char 7)\n",
      "Msg read failed: Invalid control character at: line 1 column 8 (char 7)\n",
      "Msg read failed: Invalid control character at: line 1 column 8 (char 7)\n",
      "Msg read failed: Invalid control character at: line 1 column 8 (char 7)\n",
      "Msg read failed: Invalid control character at: line 1 column 8 (char 7)\n",
      "Msg read failed: Invalid control character at: line 1 column 8 (char 7)\n",
      "Msg read failed: Invalid control character at: line 1 column 8 (char 7)\n",
      "Msg read failed: Invalid control character at: line 1 column 8 (char 7)\n",
      "Msg read failed: Invalid control character at: line 1 column 8 (char 7)\n",
      "Msg read failed: Invalid control character at: line 1 column 8 (char 7)\n",
      "Msg read failed: Invalid control character at: line 1 column 8 (char 7)\n",
      "Msg read failed: Invalid control character at: line 1 column 8 (char 7)\n",
      "Msg read failed: Invalid control character at: line 1 column 8 (char 7)\n",
      "Msg read failed: Invalid control character at: line 1 column 8 (char 7)\n",
      "Msg read failed: Invalid control character at: line 1 column 8 (char 7)\n",
      "Msg read failed: Invalid control character at: line 1 column 8 (char 7)\n",
      "Msg read failed: Invalid control character at: line 1 column 8 (char 7)\n",
      "Msg read failed: Invalid control character at: line 1 column 8 (char 7)\n",
      "Msg read failed: Invalid control character at: line 1 column 8 (char 7)\n",
      "Msg read failed: Invalid control character at: line 1 column 8 (char 7)\n",
      "Msg read failed: Invalid control character at: line 1 column 8 (char 7)\n",
      "Msg read failed: Invalid control character at: line 1 column 8 (char 7)\n",
      "Msg read failed: Invalid control character at: line 1 column 8 (char 7)\n",
      "Msg read failed: Invalid control character at: line 1 column 8 (char 7)\n",
      "Msg read failed: Invalid control character at: line 1 column 8 (char 7)\n",
      "Msg read failed: Invalid control character at: line 1 column 8 (char 7)\n",
      "Msg read failed: Invalid control character at: line 1 column 8 (char 7)\n",
      "Msg read failed: Invalid control character at: line 1 column 8 (char 7)\n",
      "Msg read failed: Invalid control character at: line 1 column 8 (char 7)\n",
      "Msg read failed: Invalid control character at: line 1 column 8 (char 7)\n",
      "Msg read failed: Invalid control character at: line 1 column 8 (char 7)\n",
      "Msg read failed: Invalid control character at: line 1 column 8 (char 7)\n",
      "Msg read failed: Invalid control character at: line 1 column 8 (char 7)\n",
      "Msg read failed: Invalid control character at: line 1 column 8 (char 7)\n",
      "Msg read failed: Invalid control character at: line 1 column 8 (char 7)\n"
     ]
    }
   ],
   "source": [
    "print(device.servo.rot_position)"
   ]
  },
  {
   "cell_type": "code",
   "execution_count": null,
   "id": "specific-essay",
   "metadata": {},
   "outputs": [],
   "source": []
  },
  {
   "cell_type": "code",
   "execution_count": null,
   "id": "middle-zambia",
   "metadata": {},
   "outputs": [],
   "source": []
  },
  {
   "cell_type": "code",
   "execution_count": null,
   "id": "micro-reception",
   "metadata": {},
   "outputs": [],
   "source": []
  },
  {
   "cell_type": "code",
   "execution_count": null,
   "id": "billion-paper",
   "metadata": {},
   "outputs": [],
   "source": []
  },
  {
   "cell_type": "code",
   "execution_count": null,
   "id": "peripheral-provider",
   "metadata": {},
   "outputs": [],
   "source": []
  },
  {
   "cell_type": "code",
   "execution_count": null,
   "id": "handy-reunion",
   "metadata": {},
   "outputs": [],
   "source": []
  },
  {
   "cell_type": "code",
   "execution_count": null,
   "id": "smooth-mainstream",
   "metadata": {},
   "outputs": [],
   "source": []
  },
  {
   "cell_type": "code",
   "execution_count": null,
   "id": "dominant-dayton",
   "metadata": {},
   "outputs": [],
   "source": []
  },
  {
   "cell_type": "code",
   "execution_count": null,
   "id": "rough-partnership",
   "metadata": {},
   "outputs": [],
   "source": []
  },
  {
   "cell_type": "code",
   "execution_count": 4,
   "id": "interim-implement",
   "metadata": {},
   "outputs": [
    {
     "name": "stdout",
     "output_type": "stream",
     "text": [
      "rotation position mode could be not enabled in the service please use 'device.service.rot_position_mode = True' to enable it\n",
      "0.0\n"
     ]
    }
   ],
   "source": [
    "print(device.servo.target_rot_position)"
   ]
  },
  {
   "cell_type": "code",
   "execution_count": null,
   "id": "auburn-welding",
   "metadata": {},
   "outputs": [],
   "source": []
  },
  {
   "cell_type": "code",
   "execution_count": null,
   "id": "dirty-convergence",
   "metadata": {},
   "outputs": [],
   "source": []
  },
  {
   "cell_type": "code",
   "execution_count": null,
   "id": "after-canal",
   "metadata": {},
   "outputs": [],
   "source": []
  },
  {
   "cell_type": "code",
   "execution_count": null,
   "id": "generic-julian",
   "metadata": {},
   "outputs": [],
   "source": []
  },
  {
   "cell_type": "code",
   "execution_count": null,
   "id": "bottom-albuquerque",
   "metadata": {},
   "outputs": [],
   "source": []
  },
  {
   "cell_type": "code",
   "execution_count": 2,
   "id": "coated-magnitude",
   "metadata": {},
   "outputs": [
    {
     "name": "stdout",
     "output_type": "stream",
     "text": [
      "Msg read failed: Invalid control character at: line 1 column 31 (char 30)\n",
      "Msg read failed: Expecting property name enclosed in double quotes: line 1 column 44 (char 43)\n",
      "Msg read failed: Expecting ':' delimiter: line 1 column 37 (char 36)\n",
      "Msg read failed: Invalid control character at: line 1 column 52 (char 51)\n",
      "Msg read failed: Expecting property name enclosed in double quotes: line 1 column 44 (char 43)\n",
      "Msg read failed: Invalid control character at: line 1 column 17 (char 16)\n",
      "Msg read failed: Invalid control character at: line 1 column 31 (char 30)\n",
      "Msg read failed: Expecting ',' delimiter: line 1 column 44 (char 43)\n",
      "Msg read failed: Expecting ':' delimiter: line 1 column 37 (char 36)\n",
      "Msg read failed: Invalid control character at: line 1 column 31 (char 30)\n",
      "Msg read failed: Expecting property name enclosed in double quotes: line 1 column 44 (char 43)\n",
      "Msg read failed: Expecting ':' delimiter: line 1 column 37 (char 36)\n",
      "Msg read failed: Invalid control character at: line 1 column 10 (char 9)\n",
      "Msg read failed: Expecting property name enclosed in double quotes: line 1 column 23 (char 22)\n",
      "Msg read failed: Invalid control character at: line 1 column 17 (char 16)\n",
      "Msg read failed: Invalid control character at: line 1 column 10 (char 9)\n",
      "Msg read failed: Invalid control character at: line 1 column 49 (char 48)\n",
      "Msg read failed: Expecting ',' delimiter: line 1 column 41 (char 40)\n",
      "Msg read failed: Invalid control character at: line 1 column 56 (char 55)\n",
      "Msg read failed: Invalid control character at: line 1 column 49 (char 48)\n",
      "Msg read failed: Expecting ',' delimiter: line 1 column 41 (char 40)\n",
      "Msg read failed: Invalid control character at: line 1 column 35 (char 34)\n",
      "Msg read failed: Invalid control character at: line 1 column 7 (char 6)\n",
      "Msg read failed: Expecting ',' delimiter: line 1 column 66 (char 65)\n",
      "Msg read failed: Expecting value: line 1 column 59 (char 58)\n",
      "Msg read failed: Invalid control character at: line 1 column 53 (char 52)\n",
      "Msg read failed: Invalid control character at: line 1 column 46 (char 45)\n",
      "Msg read failed: Expecting value: line 1 column 38 (char 37)\n",
      "Msg read failed: Invalid control character at: line 1 column 11 (char 10)\n",
      "Msg read failed: Invalid control character at: line 1 column 4 (char 3)\n",
      "Msg read failed: Expecting ',' delimiter: line 1 column 42 (char 41)\n",
      "Msg read failed: Invalid control character at: line 1 column 36 (char 35)\n",
      "Msg read failed: Invalid control character at: line 1 column 8 (char 7)\n",
      "Msg read failed: Extra data: line 1 column 46 (char 45)\n",
      "Msg read failed: Expecting property name enclosed in double quotes: line 1 column 14 (char 13)\n",
      "Msg read failed: Invalid control character at: line 1 column 54 (char 53)\n",
      "Msg read failed: Invalid control character at: line 1 column 47 (char 46)\n",
      "Msg read failed: Expecting ',' delimiter: line 1 column 60 (char 59)\n",
      "Msg read failed: Invalid control character at: line 1 column 8 (char 7)\n",
      "Msg read failed: Expecting ':' delimiter: line 1 column 21 (char 20)\n",
      "Msg read failed: Invalid control character at: line 1 column 36 (char 35)\n",
      "Msg read failed: Invalid control character at: line 1 column 29 (char 28)\n",
      "Msg read failed: Expecting ',' delimiter: line 1 column 42 (char 41)\n",
      "Msg read failed: Invalid control character at: line 1 column 57 (char 56)\n",
      "Msg read failed: Invalid control character at: line 1 column 4 (char 3)\n",
      "Msg read failed: Expecting ',' delimiter: line 1 column 63 (char 62)\n",
      "Msg read failed: Invalid control character at: line 1 column 11 (char 10)\n",
      "Msg read failed: Invalid control character at: line 1 column 4 (char 3)\n",
      "Msg read failed: Invalid control character at: line 1 column 18 (char 17)\n",
      "Msg read failed: Invalid control character at: line 1 column 32 (char 31)\n",
      "Msg read failed: Invalid control character at: line 1 column 4 (char 3)\n",
      "Msg read failed: Expecting ',' delimiter: line 1 column 63 (char 62)\n",
      "Msg read failed: Invalid control character at: line 1 column 36 (char 35)\n",
      "Msg read failed: Invalid control character at: line 1 column 50 (char 49)\n",
      "Msg read failed: Expecting ',' delimiter: line 1 column 42 (char 41)\n",
      "Msg read failed: Invalid control character at: line 1 column 57 (char 56)\n",
      "Msg read failed: Invalid control character at: line 1 column 4 (char 3)\n",
      "Msg read failed: Invalid control character at: line 1 column 18 (char 17)\n",
      "Msg read failed: Invalid control character at: line 1 column 32 (char 31)\n"
     ]
    }
   ],
   "source": [
    "device.servo.rot_position = 180"
   ]
  },
  {
   "cell_type": "code",
   "execution_count": null,
   "id": "combined-amount",
   "metadata": {},
   "outputs": [],
   "source": []
  },
  {
   "cell_type": "code",
   "execution_count": null,
   "id": "changed-physiology",
   "metadata": {},
   "outputs": [],
   "source": []
  },
  {
   "cell_type": "code",
   "execution_count": null,
   "id": "accomplished-section",
   "metadata": {},
   "outputs": [],
   "source": []
  },
  {
   "cell_type": "code",
   "execution_count": null,
   "id": "surprising-vitamin",
   "metadata": {},
   "outputs": [],
   "source": []
  },
  {
   "cell_type": "code",
   "execution_count": 20,
   "id": "finite-snowboard",
   "metadata": {},
   "outputs": [],
   "source": [
    "device.servo.rot_speed = 10"
   ]
  },
  {
   "cell_type": "code",
   "execution_count": 23,
   "id": "listed-briefs",
   "metadata": {},
   "outputs": [],
   "source": [
    "device.servo.compliant_mode = False"
   ]
  },
  {
   "cell_type": "code",
   "execution_count": null,
   "id": "hindu-correlation",
   "metadata": {},
   "outputs": [],
   "source": []
  },
  {
   "cell_type": "code",
   "execution_count": null,
   "id": "coastal-warner",
   "metadata": {},
   "outputs": [],
   "source": []
  },
  {
   "cell_type": "code",
   "execution_count": 2,
   "id": "administrative-aruba",
   "metadata": {},
   "outputs": [
    {
     "name": "stdout",
     "output_type": "stream",
     "text": [
      "rotation position mode could be not enabled in the service please use 'device.service.rot_position_mode = True' to enable it\n",
      "Msg read failed: Invalid control character at: line 1 column 34 (char 33)\n",
      "Msg read failed: Invalid control character at: line 1 column 48 (char 47)\n",
      "Msg read failed: Expecting ',' delimiter: line 1 column 39 (char 38)\n",
      "Msg read failed: Expecting ':' delimiter: line 1 column 12 (char 11)\n",
      "Msg read failed: Invalid control character at: line 1 column 31 (char 30)\n",
      "Msg read failed: Expecting property name enclosed in double quotes: line 1 column 23 (char 22)\n",
      "Msg read failed: Invalid control character at: line 1 column 17 (char 16)\n",
      "Msg read failed: Invalid control character at: line 1 column 35 (char 34)\n",
      "Msg read failed: Invalid control character at: line 1 column 53 (char 52)\n",
      "Msg read failed: Invalid control character at: line 1 column 46 (char 45)\n",
      "Msg read failed: Expecting ',' delimiter: line 1 column 63 (char 62)\n",
      "Msg read failed: Expecting property name enclosed in double quotes: line 1 column 14 (char 13)\n",
      "Msg read failed: Invalid control character at: line 1 column 54 (char 53)\n",
      "Msg read failed: Invalid control character at: line 1 column 47 (char 46)\n",
      "Msg read failed: Expecting ',' delimiter: line 1 column 39 (char 38)\n",
      "Msg read failed: Invalid control character at: line 1 column 12 (char 11)\n",
      "Msg read failed: Invalid control character at: line 1 column 30 (char 29)\n",
      "Msg read failed: Expecting ',' delimiter: line 1 column 60 (char 59)\n",
      "Msg read failed: Expecting ':' delimiter: line 1 column 12 (char 11)\n",
      "Msg read failed: Invalid control character at: line 1 column 6 (char 5)\n",
      "Msg read failed: Expecting ',' delimiter: line 1 column 44 (char 43)\n",
      "Msg read failed: Expecting ':' delimiter: line 1 column 58 (char 57)\n",
      "Msg read failed: Invalid control character at: line 1 column 6 (char 5)\n",
      "Msg read failed: Expecting property name enclosed in double quotes: line 1 column 23 (char 22)\n",
      "Msg read failed: Expecting ',' delimiter: line 1 column 62 (char 61)\n",
      "Msg read failed: Invalid control character at: line 1 column 56 (char 55)\n",
      "Msg read failed: Invalid control character at: line 1 column 7 (char 6)\n"
     ]
    }
   ],
   "source": [
    "device.servo.target_rot_position = 100"
   ]
  },
  {
   "cell_type": "code",
   "execution_count": 4,
   "id": "differential-finnish",
   "metadata": {},
   "outputs": [
    {
     "name": "stdout",
     "output_type": "stream",
     "text": [
      "Msg read failed: 'utf-8' codec can't decode byte 0xab in position 1: invalid start byte\n",
      "Msg read failed: 'utf-8' codec can't decode byte 0xab in position 25: invalid start byte\n",
      "Msg read failed: 'utf-8' codec can't decode byte 0xab in position 3: invalid start byte\n",
      "Msg read failed: 'utf-8' codec can't decode byte 0xab in position 27: invalid start byte\n",
      "Msg read failed: 'utf-8' codec can't decode byte 0xab in position 5: invalid start byte\n",
      "Msg read failed: 'utf-8' codec can't decode byte 0xab in position 29: invalid start byte\n",
      "Msg read failed: 'utf-8' codec can't decode byte 0xab in position 7: invalid start byte\n",
      "Msg read failed: 'utf-8' codec can't decode byte 0xab in position 31: invalid start byte\n",
      "Msg read failed: 'utf-8' codec can't decode byte 0xab in position 9: invalid start byte\n",
      "Msg read failed: 'utf-8' codec can't decode byte 0xab in position 33: invalid start byte\n",
      "Msg read failed: 'utf-8' codec can't decode byte 0xab in position 11: invalid start byte\n",
      "Msg read failed: 'utf-8' codec can't decode byte 0xab in position 35: invalid start byte\n",
      "Msg read failed: 'utf-8' codec can't decode byte 0xab in position 13: invalid start byte\n",
      "Msg read failed: 'utf-8' codec can't decode byte 0xab in position 37: invalid start byte\n",
      "Msg read failed: 'utf-8' codec can't decode byte 0xab in position 15: invalid start byte\n",
      "Msg read failed: 'utf-8' codec can't decode byte 0xab in position 39: invalid start byte\n",
      "Msg read failed: 'utf-8' codec can't decode byte 0xab in position 17: invalid start byte\n",
      "Msg read failed: 'utf-8' codec can't decode byte 0xab in position 41: invalid start byte\n",
      "Msg read failed: 'utf-8' codec can't decode byte 0xab in position 19: invalid start byte\n",
      "Msg read failed: 'utf-8' codec can't decode byte 0xab in position 43: invalid start byte\n",
      "Msg read failed: 'utf-8' codec can't decode byte 0xab in position 21: invalid start byte\n",
      "Msg read failed: 'utf-8' codec can't decode byte 0xab in position 45: invalid start byte\n",
      "Msg read failed: 'utf-8' codec can't decode byte 0xab in position 23: invalid start byte\n",
      "Msg read failed: 'utf-8' codec can't decode byte 0xab in position 1: invalid start byte\n",
      "Msg read failed: 'utf-8' codec can't decode byte 0xab in position 25: invalid start byte\n",
      "Msg read failed: 'utf-8' codec can't decode byte 0xab in position 3: invalid start byte\n",
      "Msg read failed: 'utf-8' codec can't decode byte 0xab in position 27: invalid start byte\n",
      "Msg read failed: 'utf-8' codec can't decode byte 0xab in position 5: invalid start byte\n",
      "Msg read failed: 'utf-8' codec can't decode byte 0xab in position 29: invalid start byte\n",
      "Msg read failed: 'utf-8' codec can't decode byte 0xab in position 7: invalid start byte\n",
      "Msg read failed: 'utf-8' codec can't decode byte 0xab in position 31: invalid start byte\n",
      "Msg read failed: 'utf-8' codec can't decode byte 0xab in position 9: invalid start byte\n",
      "Msg read failed: 'utf-8' codec can't decode byte 0xab in position 33: invalid start byte\n",
      "Msg read failed: 'utf-8' codec can't decode byte 0xab in position 11: invalid start byte\n",
      "Msg read failed: 'utf-8' codec can't decode byte 0xab in position 35: invalid start byte\n",
      "Msg read failed: 'utf-8' codec can't decode byte 0xab in position 13: invalid start byte\n",
      "Msg read failed: 'utf-8' codec can't decode byte 0xab in position 37: invalid start byte\n",
      "Msg read failed: 'utf-8' codec can't decode byte 0xab in position 15: invalid start byte\n",
      "Msg read failed: 'utf-8' codec can't decode byte 0xab in position 39: invalid start byte\n",
      "Msg read failed: 'utf-8' codec can't decode byte 0xab in position 17: invalid start byte\n",
      "Msg read failed: 'utf-8' codec can't decode byte 0xab in position 41: invalid start byte\n",
      "Msg read failed: 'utf-8' codec can't decode byte 0xab in position 19: invalid start byte\n",
      "Msg read failed: 'utf-8' codec can't decode byte 0xab in position 43: invalid start byte\n",
      "Msg read failed: 'utf-8' codec can't decode byte 0xab in position 21: invalid start byte\n",
      "Msg read failed: 'utf-8' codec can't decode byte 0xab in position 45: invalid start byte\n",
      "Msg read failed: 'utf-8' codec can't decode byte 0xab in position 23: invalid start byte\n",
      "Msg read failed: 'utf-8' codec can't decode byte 0xab in position 1: invalid start byte\n",
      "Msg read failed: 'utf-8' codec can't decode byte 0xab in position 25: invalid start byte\n",
      "Msg read failed: 'utf-8' codec can't decode byte 0xab in position 3: invalid start byte\n",
      "Msg read failed: 'utf-8' codec can't decode byte 0xab in position 27: invalid start byte\n",
      "Msg read failed: 'utf-8' codec can't decode byte 0xab in position 5: invalid start byte\n",
      "Msg read failed: 'utf-8' codec can't decode byte 0xab in position 29: invalid start byte\n",
      "Msg read failed: 'utf-8' codec can't decode byte 0xab in position 7: invalid start byte\n",
      "Msg read failed: 'utf-8' codec can't decode byte 0xab in position 31: invalid start byte\n",
      "Msg read failed: 'utf-8' codec can't decode byte 0xab in position 9: invalid start byte\n",
      "Msg read failed: 'utf-8' codec can't decode byte 0xab in position 33: invalid start byte\n",
      "Msg read failed: 'utf-8' codec can't decode byte 0xab in position 11: invalid start byte\n",
      "Msg read failed: 'utf-8' codec can't decode byte 0xab in position 35: invalid start byte\n",
      "Msg read failed: 'utf-8' codec can't decode byte 0xab in position 13: invalid start byte\n",
      "Msg read failed: 'utf-8' codec can't decode byte 0xab in position 37: invalid start byte\n",
      "Msg read failed: 'utf-8' codec can't decode byte 0xab in position 15: invalid start byte\n",
      "Msg read failed: 'utf-8' codec can't decode byte 0xab in position 39: invalid start byte\n",
      "Msg read failed: 'utf-8' codec can't decode byte 0xab in position 17: invalid start byte\n",
      "Msg read failed: 'utf-8' codec can't decode byte 0xab in position 41: invalid start byte\n",
      "Msg read failed: 'utf-8' codec can't decode byte 0xab in position 19: invalid start byte\n",
      "Msg read failed: 'utf-8' codec can't decode byte 0xab in position 43: invalid start byte\n",
      "Msg read failed: 'utf-8' codec can't decode byte 0xab in position 21: invalid start byte\n",
      "Msg read failed: 'utf-8' codec can't decode byte 0xab in position 45: invalid start byte\n",
      "Msg read failed: 'utf-8' codec can't decode byte 0xab in position 23: invalid start byte\n",
      "Msg read failed: 'utf-8' codec can't decode byte 0xab in position 1: invalid start byte\n",
      "Msg read failed: 'utf-8' codec can't decode byte 0xab in position 25: invalid start byte\n",
      "Msg read failed: 'utf-8' codec can't decode byte 0xab in position 3: invalid start byte\n",
      "Msg read failed: 'utf-8' codec can't decode byte 0xab in position 27: invalid start byte\n",
      "Msg read failed: 'utf-8' codec can't decode byte 0xab in position 5: invalid start byte\n",
      "Msg read failed: 'utf-8' codec can't decode byte 0xab in position 29: invalid start byte\n",
      "Msg read failed: 'utf-8' codec can't decode byte 0xab in position 7: invalid start byte\n"
     ]
    }
   ],
   "source": [
    "device.servo.rot_position_mode = True"
   ]
  },
  {
   "cell_type": "code",
   "execution_count": null,
   "id": "adapted-springer",
   "metadata": {},
   "outputs": [],
   "source": []
  },
  {
   "cell_type": "code",
   "execution_count": null,
   "id": "lasting-screening",
   "metadata": {},
   "outputs": [],
   "source": []
  },
  {
   "cell_type": "code",
   "execution_count": null,
   "id": "young-opera",
   "metadata": {},
   "outputs": [],
   "source": []
  }
 ],
 "metadata": {
  "kernelspec": {
   "display_name": "Python 3",
   "language": "python",
   "name": "python3"
  },
  "language_info": {
   "codemirror_mode": {
    "name": "ipython",
    "version": 3
   },
   "file_extension": ".py",
   "mimetype": "text/x-python",
   "name": "python",
   "nbconvert_exporter": "python",
   "pygments_lexer": "ipython3",
   "version": "3.9.7"
  }
 },
 "nbformat": 4,
 "nbformat_minor": 5
}
