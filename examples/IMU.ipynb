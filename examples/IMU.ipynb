{
 "cells": [
  {
   "cell_type": "markdown",
   "metadata": {},
   "source": [
    "# IMU Test"
   ]
  },
  {
   "cell_type": "code",
   "execution_count": null,
   "metadata": {
    "scrolled": false
   },
   "outputs": [
    {
     "data": {
      "application/vnd.jupyter.widget-view+json": {
       "model_id": "2c0a026014ce47b889b84af4994a6318",
       "version_major": 2,
       "version_minor": 0
      },
      "text/plain": [
       "Renderer(camera=PerspectiveCamera(aspect=2.0, position=(4.0, 12.0, 10.0), quaternion=(0.0, 0.0, 0.0, 1.0), sca…"
      ]
     },
     "metadata": {},
     "output_type": "display_data"
    },
    {
     "name": "stdout",
     "output_type": "stream",
     "text": [
      "Connected to \"/dev/cu.usbserial-DN2JWZ3D\".\n",
      "Sending detection signal.\n",
      "b'{\"detection\": {}}\\r'\n",
      "Waiting for routing table...\n",
      "Device setup.\n",
      "-------------------------------------------------\n",
      "Type                Alias               ID   \n",
      "-------------------------------------------------\n",
      "Gate                gate                1    \n",
      "Imu                 Imu_mod             2    \n",
      "\n"
     ]
    }
   ],
   "source": [
    "from pyluos import Device\n",
    "import time\n",
    "from pythreejs import *\n",
    "\n",
    "# Create a cube to move following our sensor\n",
    "cube = Mesh(\n",
    "    BoxBufferGeometry(3, 3, 3),\n",
    "    MeshPhysicalMaterial(color='green'),\n",
    "    position=[0, 0, 0],\n",
    "    castShadow = True\n",
    ")\n",
    "\n",
    "# Create a floor\n",
    "plane = Mesh(\n",
    "    PlaneBufferGeometry(100, 100),\n",
    "    MeshPhysicalMaterial(color='gray'),\n",
    "    position=[0, -1.5, 0], receiveShadow = True)\n",
    "plane.rotation = (-3.14/2, 0, 0, 'XYZ')\n",
    "\n",
    "# Create a directional ligt folowing our cube\n",
    "key_light = SpotLight(position=[0, 10, 10], angle = 0.3, penumbra = 0.1, target = cube, castShadow = True)\n",
    "key_light.shadow.mapSize = (2048, 2048)\n",
    "\n",
    "# Create a camera\n",
    "c = PerspectiveCamera(position=[4, 12, 10], up=[0, 1, 0],\n",
    "                      aspect=800/400)\n",
    "\n",
    "# Create a scene\n",
    "scene = Scene(children=[plane, cube, c, key_light, AmbientLight()])\n",
    "\n",
    "# Display the scene with shadow and everything.\n",
    "renderer = Renderer(camera=c, \n",
    "                    scene=scene, \n",
    "                    controls=[OrbitControls(controlling=c)],\n",
    "                   width=800, height=400,\n",
    "                   )\n",
    "renderer.shadowMap.enabled = True\n",
    "renderer.shadowMap.type = 'PCFSoftShadowMap'\n",
    "display(renderer)\n",
    "\n",
    "# Connect your Luos network (here using an USB service)\n",
    "r = Device('/dev/cu.usbserial-DN2JWZ3D')\n",
    "print(r.services)\n",
    "\n",
    "# Control the rotation of the cube with the rotation of the Imu sensor\n",
    "while(True):\n",
    "    cube.quaternion = r.Imu_mod.quaternion\n",
    "    time.sleep(0.05)"
   ]
  },
  {
   "cell_type": "code",
   "execution_count": 1,
   "metadata": {},
   "outputs": [
    {
     "ename": "ValueError",
     "evalue": "No corresponding IO found (among <function discover_hosts at 0x10a2f7d90>).",
     "output_type": "error",
     "traceback": [
      "\u001b[0;31m---------------------------------------------------------------------------\u001b[0m",
      "\u001b[0;31mValueError\u001b[0m                                Traceback (most recent call last)",
      "\u001b[0;32m<ipython-input-1-e5d253194cbc>\u001b[0m in \u001b[0;36m<service>\u001b[0;34m()\u001b[0m\n\u001b[1;32m      5\u001b[0m \u001b[0;32mfrom\u001b[0m \u001b[0mIPython\u001b[0m\u001b[0;34m.\u001b[0m\u001b[0mdisplay\u001b[0m \u001b[0;32mimport\u001b[0m \u001b[0mdisplay\u001b[0m\u001b[0;34m\u001b[0m\u001b[0m\n\u001b[1;32m      6\u001b[0m \u001b[0;34m\u001b[0m\u001b[0m\n\u001b[0;32m----> 7\u001b[0;31m \u001b[0mr\u001b[0m \u001b[0;34m=\u001b[0m \u001b[0mRobot\u001b[0m\u001b[0;34m(\u001b[0m\u001b[0;34m'/dev/cu.usbserial-DN38OIYT'\u001b[0m\u001b[0;34m)\u001b[0m\u001b[0;34m\u001b[0m\u001b[0m\n\u001b[0m\u001b[1;32m      8\u001b[0m \u001b[0mr\u001b[0m\u001b[0;34m.\u001b[0m\u001b[0mservices\u001b[0m\u001b[0;34m\u001b[0m\u001b[0m\n\u001b[1;32m      9\u001b[0m \u001b[0;34m\u001b[0m\u001b[0m\n",
      "\u001b[0;32m~/Documents/luos/pyluos/pyluos/robot.py\u001b[0m in \u001b[0;36m__init__\u001b[0;34m(self, host, IO, log_conf, test_mode, *args, **kwargs)\u001b[0m\n\u001b[1;32m     58\u001b[0m         \u001b[0;32melse\u001b[0m\u001b[0;34m:\u001b[0m\u001b[0;34m\u001b[0m\u001b[0m\n\u001b[1;32m     59\u001b[0m             self._io = io_from_host(host=host,\n\u001b[0;32m---> 60\u001b[0;31m                                     *args, **kwargs)\n\u001b[0m\u001b[1;32m     61\u001b[0m \u001b[0;34m\u001b[0m\u001b[0m\n\u001b[1;32m     62\u001b[0m         \u001b[0;32mif\u001b[0m \u001b[0mos\u001b[0m\u001b[0;34m.\u001b[0m\u001b[0mpath\u001b[0m\u001b[0;34m.\u001b[0m\u001b[0mexists\u001b[0m\u001b[0;34m(\u001b[0m\u001b[0mlog_conf\u001b[0m\u001b[0;34m)\u001b[0m\u001b[0;34m:\u001b[0m\u001b[0;34m\u001b[0m\u001b[0m\n",
      "\u001b[0;32m~/Documents/luos/pyluos/pyluos/io/__init__.py\u001b[0m in \u001b[0;36mio_from_host\u001b[0;34m(host, *args, **kwargs)\u001b[0m\n\u001b[1;32m     55\u001b[0m             \u001b[0;32mreturn\u001b[0m \u001b[0mcls\u001b[0m\u001b[0;34m(\u001b[0m\u001b[0mhost\u001b[0m\u001b[0;34m=\u001b[0m\u001b[0mhost\u001b[0m\u001b[0;34m,\u001b[0m \u001b[0;34m*\u001b[0m\u001b[0margs\u001b[0m\u001b[0;34m,\u001b[0m \u001b[0;34m**\u001b[0m\u001b[0mkwargs\u001b[0m\u001b[0;34m)\u001b[0m\u001b[0;34m\u001b[0m\u001b[0m\n\u001b[1;32m     56\u001b[0m \u001b[0;34m\u001b[0m\u001b[0m\n\u001b[0;32m---> 57\u001b[0;31m     \u001b[0;32mraise\u001b[0m \u001b[0mValueError\u001b[0m\u001b[0;34m(\u001b[0m\u001b[0;34m'No corresponding IO found (among {}).'\u001b[0m\u001b[0;34m.\u001b[0m\u001b[0mformat\u001b[0m\u001b[0;34m(\u001b[0m\u001b[0mdiscover_hosts\u001b[0m\u001b[0;34m)\u001b[0m\u001b[0;34m)\u001b[0m\u001b[0;34m\u001b[0m\u001b[0m\n\u001b[0m\u001b[1;32m     58\u001b[0m \u001b[0;34m\u001b[0m\u001b[0m\n\u001b[1;32m     59\u001b[0m \u001b[0;34m\u001b[0m\u001b[0m\n",
      "\u001b[0;31mValueError\u001b[0m: No corresponding IO found (among <function discover_hosts at 0x10a2f7d90>)."
     ]
    }
   ],
   "source": [
    "from pyluos import Robot\n",
    "import time\n",
    "from pythreejs import *\n",
    "import ipywidgets\n",
    "from IPython.display import display\n",
    "\n",
    "r = Robot('/dev/cu.usbserial-DN38OIYT')\n",
    "r.services\n",
    "\n",
    "cube = Mesh(\n",
    "    BoxBufferGeometry(3, 3, 3),\n",
    "    MeshPhysicalMaterial(color='green'),\n",
    "    position=[0, 0, 0],\n",
    "    castShadow = True\n",
    ")\n",
    "\n",
    "plane = Mesh(\n",
    "    PlaneBufferGeometry(100, 100),\n",
    "    MeshPhysicalMaterial(color='gray'),\n",
    "    position=[0, -1.5, 0], receiveShadow = True)\n",
    "plane.rotation = (-3.14/2, 0, 0, 'XYZ')\n",
    "\n",
    "\n",
    "key_light = SpotLight(position=[0, 10, 10], angle = 0.3, penumbra = 0.1, target = cube, castShadow = True)\n",
    "key_light.shadow.mapSize = (2048, 2048)\n",
    "\n",
    "c = PerspectiveCamera(position=[4, 12, 10], up=[0, 1, 0],\n",
    "                      aspect=800/400)\n",
    "\n",
    "scene = Scene(children=[plane, cube, c, key_light, AmbientLight()])\n",
    "\n",
    "renderer = Renderer(camera=c, \n",
    "                    scene=scene, \n",
    "                    controls=[OrbitControls(controlling=c)],\n",
    "                   width=800, height=400,\n",
    "                   )\n",
    "renderer.shadowMap.enabled = True\n",
    "renderer.shadowMap.type = 'PCFSoftShadowMap'\n",
    "display(renderer)"
   ]
  },
  {
   "cell_type": "code",
   "execution_count": 2,
   "metadata": {},
   "outputs": [
    {
     "data": {
      "application/vnd.jupyter.widget-view+json": {
       "model_id": "31e3fef3eb03429fbe06bf1c8ff38bb1",
       "version_major": 2,
       "version_minor": 0
      },
      "text/plain": [
       "interactive(children=(Checkbox(value=False, description='accel'), Checkbox(value=False, description='gyro'), C…"
      ]
     },
     "metadata": {},
     "output_type": "display_data"
    },
    {
     "data": {
      "text/plain": [
       "<function pyluos.services.imu.Imu.control.<locals>.change_config(accel, gyro, quat, compass, euler, rot_mat, pedo, linear_accel, gravity_vector, heading)>"
      ]
     },
     "execution_count": 2,
     "metadata": {},
     "output_type": "execute_result"
    },
    {
     "name": "stdout",
     "output_type": "stream",
     "text": [
      "{'services': defaultdict(<function Robot._setup.<locals>.<lambda> at 0x11949f2f0>, {'Imu_mod': defaultdict(<function Robot._setup.<locals>.<lambda>.<locals>.<lambda> at 0x1122a5158>, {'imu_enable': 4})})}\n"
     ]
    },
    {
     "name": "stderr",
     "output_type": "stream",
     "text": [
      "Exception in thread Thread-4:\n",
      "Traceback (most recent call last):\n",
      "  File \"/usr/local/Cellar/python/3.6.5_1/Frameworks/Python.framework/Versions/3.6/lib/python3.6/threading.py\", line 916, in _bootstrap_inner\n",
      "    self.run()\n",
      "  File \"/usr/local/Cellar/python/3.6.5_1/Frameworks/Python.framework/Versions/3.6/lib/python3.6/threading.py\", line 864, in run\n",
      "    self._target(*self._args, **self._kwargs)\n",
      "  File \"/Users/nicolasrabault/Documents/luos/pyluos/pyluos/io/serial_io.py\", line 100, in _poll\n",
      "    to_read = self._serial.in_waiting\n",
      "  File \"/Users/nicolasrabault/.virtualenvs/luos/lib/python3.6/site-packages/serial/serialposix.py\", line 467, in in_waiting\n",
      "    s = fcntl.ioctl(self.fd, TIOCINQ, TIOCM_zero_str)\n",
      "OSError: [Errno 6] Device not configured\n",
      "\n"
     ]
    }
   ],
   "source": [
    "r.Imu_mod.control()"
   ]
  },
  {
   "cell_type": "markdown",
   "metadata": {},
   "source": [
    "## Quaternion Test"
   ]
  },
  {
   "cell_type": "code",
   "execution_count": null,
   "metadata": {},
   "outputs": [
    {
     "name": "stdout",
     "output_type": "stream",
     "text": [
      "{'services': defaultdict(<function Robot._setup.<locals>.<lambda> at 0x10daaff28>, {'Imu_mod': defaultdict(<function Robot._setup.<locals>.<lambda>.<locals>.<lambda> at 0x10b22f598>, {'imu_enable': 4})})}\n"
     ]
    },
    {
     "name": "stderr",
     "output_type": "stream",
     "text": [
      "Exception in thread Thread-4:\n",
      "Traceback (most recent call last):\n",
      "  File \"/usr/local/Cellar/python/3.6.5_1/Frameworks/Python.framework/Versions/3.6/lib/python3.6/threading.py\", line 916, in _bootstrap_inner\n",
      "    self.run()\n",
      "  File \"/usr/local/Cellar/python/3.6.5_1/Frameworks/Python.framework/Versions/3.6/lib/python3.6/threading.py\", line 864, in run\n",
      "    self._target(*self._args, **self._kwargs)\n",
      "  File \"/Users/nicolasrabault/Documents/luos/pyluos/pyluos/io/serial_io.py\", line 100, in _poll\n",
      "    to_read = self._serial.in_waiting\n",
      "  File \"/Users/nicolasrabault/.virtualenvs/luos/lib/python3.6/site-packages/serial/serialposix.py\", line 467, in in_waiting\n",
      "    s = fcntl.ioctl(self.fd, TIOCINQ, TIOCM_zero_str)\n",
      "OSError: [Errno 6] Device not configured\n",
      "\n"
     ]
    }
   ],
   "source": [
    "while(True):\n",
    "    cube.quaternion = r.Imu_mod.quaternion\n",
    "    time.sleep(0.05)"
   ]
  },
  {
   "cell_type": "markdown",
   "metadata": {},
   "source": [
    "## Heading Test"
   ]
  },
  {
   "cell_type": "code",
   "execution_count": null,
   "metadata": {},
   "outputs": [
    {
     "name": "stdout",
     "output_type": "stream",
     "text": [
      "[False, False, False, False, False, False, False, True, False, False]\n",
      "[True, False, False, False, False, False, False, True, False, False]\n",
      "{'services': defaultdict(<function Robot._setup.<locals>.<lambda> at 0x116670268>, {'Imu_mod': defaultdict(<function Robot._setup.<locals>.<lambda>.<locals>.<lambda> at 0x1166706a8>, {'imu_enable': 516})})}\n"
     ]
    }
   ],
   "source": [
    "r.Imu_mod.heading = True\n",
    "time.sleep(0.1)\n",
    "lastheading = r.Imu_mod.heading\n",
    "while(True):\n",
    "    cube.rotateZ(((lastheading - r.Imu_mod.heading) * 2.0 * 3.14)/360.0)\n",
    "    lastheading = r.Imu_mod.heading\n",
    "    time.sleep(0.05)"
   ]
  },
  {
   "cell_type": "markdown",
   "metadata": {},
   "source": [
    "## acceleration test"
   ]
  },
  {
   "cell_type": "code",
   "execution_count": null,
   "metadata": {},
   "outputs": [],
   "source": [
    "r.Imu_mod.acceleration = True\n",
    "time.sleep(0.1)\n",
    "while(True):\n",
    "    cube.scale = r.Imu_mod.acceleration\n",
    "    time.sleep(0.05)"
   ]
  },
  {
   "cell_type": "markdown",
   "metadata": {},
   "source": [
    "## Gravity Test"
   ]
  },
  {
   "cell_type": "code",
   "execution_count": null,
   "metadata": {},
   "outputs": [],
   "source": [
    "r.Imu_mod.gravity_vector = True\n",
    "time.sleep(0.1)\n",
    "while(True):\n",
    "    cube.scale = [i/9.81 for i in r.Imu_mod.gravity_vector]\n",
    "    time.sleep(0.05)"
   ]
  },
  {
   "cell_type": "markdown",
   "metadata": {},
   "source": [
    "## Translation test"
   ]
  },
  {
   "cell_type": "code",
   "execution_count": null,
   "metadata": {},
   "outputs": [],
   "source": [
    "r.Imu_mod.linear_acceleration = True\n",
    "speed = i * 5 for i in my_list]\n",
    "time.sleep(0.1)\n",
    "while(True):\n",
    "    cube.scale = [i/9.81 for i in r.Imu_mod.gravity_vector]\n",
    "    time.sleep(0.05)"
   ]
  },
  {
   "cell_type": "code",
   "execution_count": 2,
   "metadata": {},
   "outputs": [
    {
     "name": "stdout",
     "output_type": "stream",
     "text": [
      "{'services': defaultdict(<function Robot._setup.<locals>.<lambda> at 0x113732048>, {'Imu_mod': defaultdict(<function Robot._setup.<locals>.<lambda>.<locals>.<lambda> at 0x10c537510>, {'imu_enable': 132})})}\n"
     ]
    },
    {
     "data": {
      "text/plain": [
       "[0.0521267440000001, -0.01810001200000005, 0.0489912150000001]"
      ]
     },
     "execution_count": 2,
     "metadata": {},
     "output_type": "execute_result"
    }
   ],
   "source": [
    "#bias computing\n",
    "r.Imu_mod.linear_acceleration = True\n",
    "time.sleep(0.1)\n",
    "bias = [0,0,0]\n",
    "for i in range(1000):\n",
    "    bias = [i + y for (i, y) in zip(r.Imu_mod.linear_acceleration, bias)]\n",
    "    time.sleep(0.01)\n",
    "\n",
    "bias = [i / 1000 for i in bias]\n",
    "bias"
   ]
  }
 ],
 "metadata": {
  "kernelspec": {
   "display_name": "Python 2",
   "language": "python",
   "name": "python2"
  },
  "language_info": {
   "codemirror_mode": {
    "name": "ipython",
    "version": 3
   },
   "file_extension": ".py",
   "mimetype": "text/x-python",
   "name": "python",
   "nbconvert_exporter": "python",
   "pygments_lexer": "ipython3",
   "version": "3.6.5"
  }
 },
 "nbformat": 4,
 "nbformat_minor": 2
}
