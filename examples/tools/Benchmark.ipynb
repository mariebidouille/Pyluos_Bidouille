{
 "cells": [
  {
   "cell_type": "code",
   "execution_count": 1,
   "metadata": {},
   "outputs": [
    {
     "name": "stdout",
     "output_type": "stream",
     "text": [
      "Connected to \"/dev/cu.usbserial-DN2JWZ3D\".\n",
      "Sending detection signal.\n",
      "Waiting for routing table...\n",
      "Device setup.\n",
      "-------------------------------------------------\n",
      "Type                Alias               ID   \n",
      "-------------------------------------------------\n",
      "Gate                gate                1    \n",
      "Color               rgb_led_mod         2    \n",
      "\n"
     ]
    }
   ],
   "source": [
    "%matplotlib notebook\n",
    "import matplotlib\n",
    "import matplotlib.pyplot as plt\n",
    "import time\n",
    "from pyluos import Device\n",
    "from IPython.display import clear_output\n",
    "import numpy as np\n",
    "\n",
    "device = Device('/dev/cu.usbserial-DN2JWZ3D')\n",
    "print(device.services)\n",
    "    \n",
    "def plot_test_cmplt(baudrate_vector, results):\n",
    "    fig1 = plt.figure(1)\n",
    "    ax = plt.subplot(1, 1, 1)\n",
    "    ax.set_xlabel('Packet size (bytes)')\n",
    "    ax.set_ylabel('Data rate (bits/s)')\n",
    "    for i,baud in enumerate(baudrate_vector):\n",
    "        ax.plot(results[i][\"datasize_vector\"], results[i][\"data_rate\"], label=str(baud) + \"baub\")\n",
    "    ax.legend(loc='upper right')\n",
    "    fig2 = plt.figure(2)\n",
    "    ax1 = plt.subplot(1, 1, 1)\n",
    "    ax1.set_xlabel('Packet size (bytes)')\n",
    "    ax1.set_ylabel('Failed rate (%)')\n",
    "    for i,baud in enumerate(baudrate_vector):\n",
    "        ax1.plot(results[i][\"datasize_vector\"], results[i][\"fail_rate\"], label=str(baud) + \"baub\")\n",
    "    ax1.legend(loc='upper right')\n",
    "    plt.show()\n",
    "\n",
    "def data_rate_test(baud):\n",
    "    datarate = []\n",
    "    failrate = []\n",
    "    datasize = []\n",
    "    device.baudrate = baud\n",
    "    maxsize = 256\n",
    "    data_size = range(1, maxsize, 1)\n",
    "    total = 0\n",
    "    for size in data_size: \n",
    "        clear_output(wait=True)\n",
    "        data = [12]\n",
    "        data *= size\n",
    "        results = device.benchmark(data=data, repetition=200, target_id=2)\n",
    "        total = total + (size*200*(100.0-results[1])/100/1000)\n",
    "        if total < 1000 :\n",
    "            print (\"baudrate : \" + str(baud) + \"\\tpayload size : \" + str(size*200/1000) + \" kB\\ttotal transfered : \" + str(total) +  \" kB\\n[\" + \"=\" * int(size*100/maxsize) + \" \" * int(100-(size*100/maxsize)) + \"]\")\n",
    "        else :\n",
    "            print (\"baudrate : \" + str(baud) + \"\\tpayload size : \" + str(size*200/1000) + \" kB\\ttotal transfered : \" + str(total/1000) +  \" mB\\n[\" + \"=\" * int(size*100/maxsize) + \" \" * int(100-(size*100/maxsize)) + \"]\")\n",
    "        datarate.append(results[0])\n",
    "        failrate.append(results[1])\n",
    "        datasize.append(size)\n",
    "    return {\"datasize_vector\" : datasize, \"data_rate\" : datarate, \"fail_rate\" : failrate}\n",
    "\n",
    "def benchmark():\n",
    "    baudrates = [250000, 500000, 1000000, 2000000]\n",
    "    results = []\n",
    "    device.pause()\n",
    "    for baud in baudrates:\n",
    "        results.append(data_rate_test(baud))\n",
    "    plot_test_cmplt(baudrates, results)\n",
    "    device.play()\n"
   ]
  },
  {
   "cell_type": "code",
   "execution_count": null,
   "metadata": {},
   "outputs": [
    {
     "name": "stdout",
     "output_type": "stream",
     "text": [
      "baudrate : 2000000\tpayload size : 45.0 kB\ttotal transfered : 0.0 kB\n",
      "[=======================================================================================            ]\n"
     ]
    }
   ],
   "source": [
    "benchmark()"
   ]
  }
 ],
 "metadata": {
  "kernelspec": {
   "display_name": "Python 3",
   "language": "python",
   "name": "python3"
  },
  "language_info": {
   "codemirror_mode": {
    "name": "ipython",
    "version": 3
   },
   "file_extension": ".py",
   "mimetype": "text/x-python",
   "name": "python",
   "nbconvert_exporter": "python",
   "pygments_lexer": "ipython3",
   "version": "3.6.5"
  }
 },
 "nbformat": 4,
 "nbformat_minor": 2
}
